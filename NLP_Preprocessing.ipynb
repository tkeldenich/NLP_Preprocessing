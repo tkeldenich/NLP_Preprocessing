{
  "nbformat": 4,
  "nbformat_minor": 0,
  "metadata": {
    "colab": {
      "name": "NLP_Preprocessing.ipynb",
      "provenance": [],
      "collapsed_sections": []
    },
    "kernelspec": {
      "name": "python3",
      "display_name": "Python 3"
    },
    "accelerator": "GPU"
  },
  "cells": [
    {
      "cell_type": "markdown",
      "metadata": {
        "id": "EML680rzvhd2"
      },
      "source": [
        "# **Preprocessing NLP - Tutoriel pour nettoyer rapidement un texte** - [voir l'article](https://inside-machinelearning.com/preprocessing-nlp-tutoriel-pour-nettoyer-rapidement-un-texte/)"
      ]
    },
    {
      "cell_type": "markdown",
      "metadata": {
        "id": "4cE99te-vw55"
      },
      "source": [
        "Je vous propose aujourd'hui **un tutoriel de Preprocessing NLP** pour voir en détail **comment nettoyer des données textes !**\n",
        " \n",
        "On va voir **plusieurs approches** qui seront adaptable autant aux **textes en anglais** qu'aux **textes en français**.\n",
        " \n",
        "Ensuite, on verra comment **encoder ces données** en format compréhensible, **interprétable** par nos modèles de **Machine Learning et Deep Learning.**\n",
        " \n",
        "**C'est parti !**"
      ]
    },
    {
      "cell_type": "markdown",
      "metadata": {
        "id": "e8tq0Yk-8liP"
      },
      "source": [
        "# **Preprocessing**"
      ]
    },
    {
      "cell_type": "markdown",
      "metadata": {
        "id": "QrVnaM4L0mTm"
      },
      "source": [
        "## **Charger les données**"
      ]
    },
    {
      "cell_type": "markdown",
      "metadata": {
        "id": "YlClXkP9xZd-"
      },
      "source": [
        "**Premièrement**, comme à notre habitude, on va **charger nos données**.\n",
        " \n",
        "Ici on prend un **fichier csv** tiré de [cette compétition Kaggle](https://www.kaggle.com/c/nlp-getting-started) contenant **plusieurs milliers de phrases en anglais.**\n",
        " \n",
        "**Parfait pour nous ;)**"
      ]
    },
    {
      "cell_type": "markdown",
      "metadata": {
        "id": "4oOZTiIEx-8r"
      },
      "source": [
        "On charge les **phrases** depuis ce [répertoire Github](https://github.com/tkeldenich/NLP_Preprocessing)."
      ]
    },
    {
      "cell_type": "code",
      "metadata": {
        "id": "n6pnywgf5Hj6"
      },
      "source": [
        "!git clone https://github.com/tkeldenich/NLP_Preprocessing.git &> /dev/null"
      ],
      "execution_count": null,
      "outputs": []
    },
    {
      "cell_type": "markdown",
      "metadata": {
        "id": "MGAjurnoyFyg"
      },
      "source": [
        "Puis on **insère ces données** dans un **Dataframe Pandas**."
      ]
    },
    {
      "cell_type": "code",
      "metadata": {
        "colab": {
          "base_uri": "https://localhost:8080/",
          "height": 204
        },
        "id": "Eh3cHaty53XG",
        "outputId": "01a087bb-a3d5-4f6a-b22a-54057dba35bc"
      },
      "source": [
        "import numpy as np\n",
        "import pandas as pd\n",
        "\n",
        "train_data = pd.read_csv('/content/NLP_Preprocessing/train.csv')\n",
        "\n",
        "train_data.head()"
      ],
      "execution_count": null,
      "outputs": [
        {
          "output_type": "execute_result",
          "data": {
            "text/html": [
              "<div>\n",
              "<style scoped>\n",
              "    .dataframe tbody tr th:only-of-type {\n",
              "        vertical-align: middle;\n",
              "    }\n",
              "\n",
              "    .dataframe tbody tr th {\n",
              "        vertical-align: top;\n",
              "    }\n",
              "\n",
              "    .dataframe thead th {\n",
              "        text-align: right;\n",
              "    }\n",
              "</style>\n",
              "<table border=\"1\" class=\"dataframe\">\n",
              "  <thead>\n",
              "    <tr style=\"text-align: right;\">\n",
              "      <th></th>\n",
              "      <th>text</th>\n",
              "    </tr>\n",
              "  </thead>\n",
              "  <tbody>\n",
              "    <tr>\n",
              "      <th>0</th>\n",
              "      <td>Forest fire near La Ronge Sask. Canada</td>\n",
              "    </tr>\n",
              "    <tr>\n",
              "      <th>1</th>\n",
              "      <td>All residents asked to 'shelter in place' are ...</td>\n",
              "    </tr>\n",
              "    <tr>\n",
              "      <th>2</th>\n",
              "      <td>13,000 people receive #wildfires evacuation or...</td>\n",
              "    </tr>\n",
              "    <tr>\n",
              "      <th>3</th>\n",
              "      <td>Just got sent this photo from Ruby #Alaska as ...</td>\n",
              "    </tr>\n",
              "    <tr>\n",
              "      <th>4</th>\n",
              "      <td>#RockyFire Update =&gt; California Hwy. 20 closed...</td>\n",
              "    </tr>\n",
              "  </tbody>\n",
              "</table>\n",
              "</div>"
            ],
            "text/plain": [
              "                                                text\n",
              "0             Forest fire near La Ronge Sask. Canada\n",
              "1  All residents asked to 'shelter in place' are ...\n",
              "2  13,000 people receive #wildfires evacuation or...\n",
              "3  Just got sent this photo from Ruby #Alaska as ...\n",
              "4  #RockyFire Update => California Hwy. 20 closed..."
            ]
          },
          "metadata": {
            "tags": []
          },
          "execution_count": 2
        }
      ]
    },
    {
      "cell_type": "markdown",
      "metadata": {
        "id": "mwsTsoFN-hcI"
      },
      "source": [
        "## **Nettoyer les données**"
      ]
    },
    {
      "cell_type": "markdown",
      "metadata": {
        "id": "WVoHZ6_lfhqj"
      },
      "source": [
        "Une fois que les **données sont chargées** il faut les **nettoyer**, faire ce qu'on appelle un **preprocessing**.\n",
        " \n",
        "**Dans la plupart des cas pour du NLP**, le preprocessing consiste à **enlever les caractères** qui ne sont pas des lettres comme \"#\", \"-\", \"!\", les **chiffres** ou bien encore **les mots qui n'ont pas de sens** ou qui ne font pas partie de la langue analysée.\n",
        " \n",
        "**Garder en tête** cependant que pour certains **type de problèmes** il peut être intéressant de **préserver certains types de caractères.**\n",
        " \n",
        "Par exemple : pour analyser **si un email est un spam ou non**, on peut imaginer que **les '!' sont un bon indicateur** et donc **ne pas les enlever lors du nettoyage.**"
      ]
    },
    {
      "cell_type": "markdown",
      "metadata": {
        "id": "2U5jbOlGSXKA"
      },
      "source": [
        "Nous allons ici **coder deux fonctions :**\n",
        "- une pour **nettoyer nos phrases en langue anglaise**\n",
        "- une pour **nettoyer nos phrases en langue française**\n",
        " \n",
        "Ces deux fonctions ont, par ailleurs, **la même architecture.**"
      ]
    },
    {
      "cell_type": "markdown",
      "metadata": {
        "id": "IA9CcTw-Cnlp"
      },
      "source": [
        "### **Texte en anglais**"
      ]
    },
    {
      "cell_type": "markdown",
      "metadata": {
        "id": "tucQs48Cjype"
      },
      "source": [
        "Premièrement on **importe** toutes les **librairies nécessaires :**\n"
      ]
    },
    {
      "cell_type": "code",
      "metadata": {
        "colab": {
          "base_uri": "https://localhost:8080/"
        },
        "id": "7dOIHAznmhIn",
        "outputId": "b96360b0-a3d0-4623-a57d-33b09c3bd9f5"
      },
      "source": [
        "import nltk\n",
        "import string\n",
        "from nltk.stem import WordNetLemmatizer \n",
        "\n",
        "nltk.download('stopwords')\n",
        "nltk.download('punkt')\n",
        "nltk.download('words')\n",
        "nltk.download('wordnet')"
      ],
      "execution_count": null,
      "outputs": [
        {
          "output_type": "stream",
          "text": [
            "[nltk_data] Downloading package stopwords to /root/nltk_data...\n",
            "[nltk_data]   Unzipping corpora/stopwords.zip.\n",
            "[nltk_data] Downloading package punkt to /root/nltk_data...\n",
            "[nltk_data]   Unzipping tokenizers/punkt.zip.\n",
            "[nltk_data] Downloading package words to /root/nltk_data...\n",
            "[nltk_data]   Unzipping corpora/words.zip.\n",
            "[nltk_data] Downloading package wordnet to /root/nltk_data...\n",
            "[nltk_data]   Unzipping corpora/wordnet.zip.\n"
          ],
          "name": "stdout"
        },
        {
          "output_type": "execute_result",
          "data": {
            "text/plain": [
              "True"
            ]
          },
          "metadata": {
            "tags": []
          },
          "execution_count": 3
        }
      ]
    },
    {
      "cell_type": "markdown",
      "metadata": {
        "id": "XP6KWEwWmv_b"
      },
      "source": [
        "Ensuite on **initialise** :\n",
        "- les **stopwords**, ce sont les mots qui apparaissent très fréquemment mais qui n'apporte pas de sens à la phrase (comme \"de\", \"le\", \"une\")\n",
        "- les mots (**words**) qui proviennent d'un dictionnaire **anglais**\n",
        "- un **lemmatizer**, cette objet nous permet de préserver la racine des mots de tel sorte que deux mots ayant une même souche seront considérés comme un seul et même mot (exemple : 'voisine' et 'voisinage' seront tous deux changer en 'voisin')"
      ]
    },
    {
      "cell_type": "code",
      "metadata": {
        "id": "tAw5L6O_mjpK"
      },
      "source": [
        "stopwords = nltk.corpus.stopwords.words('english')\n",
        "words = set(nltk.corpus.words.words())\n",
        "lemmatizer = WordNetLemmatizer()"
      ],
      "execution_count": null,
      "outputs": []
    },
    {
      "cell_type": "markdown",
      "metadata": {
        "id": "tp8R_SVCmofm"
      },
      "source": [
        "Puis on construit notre **fonction de preprocessing** qui va successivement :\n",
        "- enlever la **ponctuation**\n",
        "- enlever les **chiffres**\n",
        "- transformer les phrases en **liste de tokens** (en liste de mots)\n",
        "- enlever les **stopwords** (mots n'apportant pas de sens)\n",
        "- **lemmatizer**\n",
        "- enlever les **majuscules**\n",
        "- **reformer les phrases** avec les mots restants"
      ]
    },
    {
      "cell_type": "code",
      "metadata": {
        "id": "IekfBPBg8c6L"
      },
      "source": [
        "def Preprocess_listofSentence(listofSentence):\n",
        "    preprocess_list = []\n",
        "    for sentence in listofSentence :\n",
        "        \n",
        "        sentence_w_punct = \"\".join([i.lower() for i in sentence if i not in string.punctuation])\n",
        "        \n",
        "        sentence_w_num = ''.join(i for i in sentence_w_punct if not i.isdigit())\n",
        "\n",
        "        tokenize_sentence = nltk.tokenize.word_tokenize(sentence_w_num)\n",
        "        \n",
        "        words_w_stopwords = [i for i in tokenize_sentence if i not in stopwords]\n",
        "        \n",
        "        words_lemmatize = (lemmatizer.lemmatize(w) for w in words_w_stopwords)\n",
        "\n",
        "        sentence_clean = ' '.join(w for w in words_lemmatize if w.lower() in words or not w.isalpha())\n",
        "        \n",
        "        preprocess_list.append(sentence_clean)\n",
        "    \n",
        "    return preprocess_list "
      ],
      "execution_count": null,
      "outputs": []
    },
    {
      "cell_type": "markdown",
      "metadata": {
        "id": "eYojRBPCnYti"
      },
      "source": [
        "Puis on l'**utilise :**"
      ]
    },
    {
      "cell_type": "code",
      "metadata": {
        "id": "uP3geUUC8pCo"
      },
      "source": [
        "preprocess_list = Preprocess_listofSentence(train_data['text'])"
      ],
      "execution_count": null,
      "outputs": []
    },
    {
      "cell_type": "markdown",
      "metadata": {
        "id": "v7aAX1iTneW0"
      },
      "source": [
        "Ensuite on peut **afficher** un exemple de **phrase nettoyée :**"
      ]
    },
    {
      "cell_type": "code",
      "metadata": {
        "colab": {
          "base_uri": "https://localhost:8080/"
        },
        "id": "B9Gev3yr-oy9",
        "outputId": "a0cf105d-9d21-434b-8e26-5b1eabbd690e"
      },
      "source": [
        "print('Phrase de base : '+train_data['text'][2])\n",
        "print('Phrase nettoyer : '+preprocess_list[2])"
      ],
      "execution_count": null,
      "outputs": [
        {
          "output_type": "stream",
          "text": [
            "Phrase de base : 13,000 people receive #wildfires evacuation orders in California \n",
            "Phrase nettoyer : people receive wildfire evacuation order\n"
          ],
          "name": "stdout"
        }
      ]
    },
    {
      "cell_type": "markdown",
      "metadata": {
        "id": "poLi6m_VCtKZ"
      },
      "source": [
        "### **Texte en français**"
      ]
    },
    {
      "cell_type": "markdown",
      "metadata": {
        "id": "b3yf6PNpj8ID"
      },
      "source": [
        "Ici on va d'abord installer **la librairie** [FrenchLefffLemmatizer](https://github.com/ClaudeCoulombe/FrenchLefffLemmatizer) qui permet d'effectuer une **lemmatization en français.**"
      ]
    },
    {
      "cell_type": "code",
      "metadata": {
        "id": "xgDU1JV4tCLw"
      },
      "source": [
        " !pip install git+https://github.com/ClaudeCoulombe/FrenchLefffLemmatizer.git &> /dev/null"
      ],
      "execution_count": null,
      "outputs": []
    },
    {
      "cell_type": "markdown",
      "metadata": {
        "id": "tMQXjLJnok2l"
      },
      "source": [
        "On **importe** ensuite les librairies."
      ]
    },
    {
      "cell_type": "code",
      "metadata": {
        "colab": {
          "base_uri": "https://localhost:8080/"
        },
        "id": "qD-vu7LKoljx",
        "outputId": "b3dac47d-87c5-4927-b40d-dded04f3dc41"
      },
      "source": [
        "import nltk\n",
        "import string\n",
        "from french_lefff_lemmatizer.french_lefff_lemmatizer import FrenchLefffLemmatizer\n",
        " \n",
        "nltk.download('wordnet')"
      ],
      "execution_count": null,
      "outputs": [
        {
          "output_type": "stream",
          "text": [
            "[nltk_data] Downloading package wordnet to /root/nltk_data...\n",
            "[nltk_data]   Package wordnet is already up-to-date!\n"
          ],
          "name": "stdout"
        },
        {
          "output_type": "execute_result",
          "data": {
            "text/plain": [
              "True"
            ]
          },
          "metadata": {
            "tags": []
          },
          "execution_count": 9
        }
      ]
    },
    {
      "cell_type": "markdown",
      "metadata": {
        "id": "mhYzTzIxpHCh"
      },
      "source": [
        "Ensuite on **initialise** :\n",
        "- les **stopwords**, ce sont les mots qui apparaissent très fréquemment mais qui n'apporte pas de sens à la phrase (comme \"de\", \"le\", \"une\")\n",
        "- les **mots** qui proviennent d'un dictionnaire **français**\n",
        "- un **lemmatizer**, cette objet nous permet de préserver la racine des mots de tel sorte que deux mots ayant une même souche seront considérés comme un même mot (exemple : 'voisine' et 'voisinage' seront tous deux changer en 'voisin')"
      ]
    },
    {
      "cell_type": "code",
      "metadata": {
        "id": "iVNXfml_ovCQ"
      },
      "source": [
        "french_stopwords = nltk.corpus.stopwords.words('french')\n",
        "mots = set(line.strip() for line in open('/content/NLP_Preprocessing/dictionnaire.txt'))\n",
        "lemmatizer = FrenchLefffLemmatizer()"
      ],
      "execution_count": null,
      "outputs": []
    },
    {
      "cell_type": "markdown",
      "metadata": {
        "id": "E_x-Hw3JpY7e"
      },
      "source": [
        "Puis on construit notre fonction de preprocessing qui va successivement :\n",
        "- enlever la **ponctuation**\n",
        "- enlever les **chiffres**\n",
        "- transformer les phrases en **liste de tokens** (en liste de mots)\n",
        "- enlever les **stopwords** (mots n'apportant pas de sens)\n",
        "- **lemmatizer**\n",
        "- garder seulement **les mots présent dans le dictionnaire**\n",
        "- enlever les **majuscules**\n",
        "- **reformer les phrases** avec les mots restant"
      ]
    },
    {
      "cell_type": "code",
      "metadata": {
        "id": "-_yAX-J3rOxO"
      },
      "source": [
        "def French_Preprocess_listofSentence(listofSentence):\n",
        "  preprocess_list = []\n",
        "  for sentence in listofSentence :\n",
        "        \n",
        "    sentence_w_punct = \"\".join([i.lower() for i in sentence if i not in string.punctuation])\n",
        "        \n",
        "    sentence_w_num = ''.join(i for i in sentence_w_punct if not i.isdigit())\n",
        " \n",
        "    tokenize_sentence = nltk.tokenize.word_tokenize(sentence_w_num)\n",
        "        \n",
        "    words_w_stopwords = [i for i in tokenize_sentence if i not in french_stopwords]\n",
        "        \n",
        "    words_lemmatize = (lemmatizer.lemmatize(w) for w in words_w_stopwords)\n",
        " \n",
        "    sentence_clean = ' '.join(w for w in words_lemmatize if w.lower() in mots or not w.isalpha())\n",
        "        \n",
        "    preprocess_list.append(sentence_clean)\n",
        "    \n",
        "  return preprocess_list"
      ],
      "execution_count": null,
      "outputs": []
    },
    {
      "cell_type": "markdown",
      "metadata": {
        "id": "Ra1Y7e2UprV5"
      },
      "source": [
        "On crée des données pour **tester notre fonction :**"
      ]
    },
    {
      "cell_type": "code",
      "metadata": {
        "id": "BuBkpm2ssoKY"
      },
      "source": [
        "lst = ['C\\'est un test pour lemmatizer',\n",
        "       'plusieurs phrases pour un nettoyage',\n",
        "       'eh voilà la troisième !']\n",
        "french_text = pd.DataFrame(lst, columns =['text'])"
      ],
      "execution_count": null,
      "outputs": []
    },
    {
      "cell_type": "markdown",
      "metadata": {
        "id": "GS3Au-SApyAc"
      },
      "source": [
        "Ensuite on l'**utilise :**"
      ]
    },
    {
      "cell_type": "code",
      "metadata": {
        "id": "hHOgJJ7CrO4T"
      },
      "source": [
        "french_preprocess_list = French_Preprocess_listofSentence(french_text['text'])"
      ],
      "execution_count": null,
      "outputs": []
    },
    {
      "cell_type": "markdown",
      "metadata": {
        "id": "wTVo7lRcqJSQ"
      },
      "source": [
        "Et on **regarde le résultat :**"
      ]
    },
    {
      "cell_type": "code",
      "metadata": {
        "colab": {
          "base_uri": "https://localhost:8080/"
        },
        "id": "PgdWpgHCrPJm",
        "outputId": "201ebf78-511c-4391-fc00-69c8871b6f71"
      },
      "source": [
        "print('Phrase de base : '+lst[1])\n",
        "print('Phrase nettoyer : '+french_preprocess_list[1])"
      ],
      "execution_count": null,
      "outputs": [
        {
          "output_type": "stream",
          "text": [
            "Phrase de base : plusieurs phrases pour un nettoyage\n",
            "Phrase nettoyer : plusieurs phrase nettoyage\n"
          ],
          "name": "stdout"
        }
      ]
    },
    {
      "cell_type": "markdown",
      "metadata": {
        "id": "yQs34jL3_ROy"
      },
      "source": [
        "# **Les différents encodages**"
      ]
    },
    {
      "cell_type": "markdown",
      "metadata": {
        "id": "QRRNaFlZvoeA"
      },
      "source": [
        "Une fois qu'on a **extrait les informations utiles** de nos phrases, on peut passer à **la phase d'encodage.**\n",
        " \n",
        "L'encodage est une **étape essentielle** pour pouvoir faire du **Machine Learning.**\n",
        " \n",
        "En effet, il permet de **transformer les données texte en chiffres** que la machine peut interprérer, **que la machine peut comprendre**.\n",
        " \n",
        "Il existe **différents types d'encodage** et nous allons dès maintenant aborder **les plus connus !**"
      ]
    },
    {
      "cell_type": "markdown",
      "metadata": {
        "id": "60trRt8HAOpM"
      },
      "source": [
        "## **One-Hot Encoding**"
      ]
    },
    {
      "cell_type": "markdown",
      "metadata": {
        "id": "A-AcWETHwcCk"
      },
      "source": [
        "Le **One-Hot Encoding** est à la fois **la méthode la plus connu**, la **plus simple à réaliser**, et celle qui m'a permis d'avoir **la meilleure précision** dans la plupart de **mes travaux personnels en NLP.**\n",
        " \n",
        "Le One-Hot consite à **créer un dictionnaire** avec **tous les mots qui apparaissent** dans nos phrases nettoyées.\n",
        " \n",
        "Ce dictionnaire est en fait **un tableau** où **chaque colonne représente un mot** et **chaque ligne représente une phrase**.\n",
        " \n",
        "Si **tel mot apparaît dans tel phrase**, on met une **valeur de 1** dans l'élément du tableau, **sinon** on met une **valeur de 0.**\n",
        " \n",
        "On aura donc un **tableau composé uniquement de 0 et de 1**."
      ]
    },
    {
      "cell_type": "markdown",
      "metadata": {
        "id": "IQWScdmX0sf2"
      },
      "source": [
        "Pour réaliser le **One-Hot Encoding** en **Python**, on initialise le **dictionnaire** avec la fonction *CountVectorizer()* de la librairie *Sklearn*.\n",
        " \n",
        "Puis on utilise la **fonction** *fit_transform()* sur **nos données preprocessées.**"
      ]
    },
    {
      "cell_type": "code",
      "metadata": {
        "id": "eeRWaRr-_IRQ"
      },
      "source": [
        "from sklearn.feature_extraction.text import CountVectorizer\n",
        " \n",
        "vectorizer = CountVectorizer()\n",
        " \n",
        "X = vectorizer.fit_transform(preprocess_list)"
      ],
      "execution_count": null,
      "outputs": []
    },
    {
      "cell_type": "code",
      "metadata": {
        "colab": {
          "base_uri": "https://localhost:8080/"
        },
        "id": "gBDpcTwH_afh",
        "outputId": "d87ea6ab-5966-4e0a-ae14-a21fb519f64f"
      },
      "source": [
        "X.toarray()[0]"
      ],
      "execution_count": null,
      "outputs": [
        {
          "output_type": "execute_result",
          "data": {
            "text/plain": [
              "array([0, 0, 0, ..., 0, 0, 0])"
            ]
          },
          "metadata": {
            "tags": []
          },
          "execution_count": 16
        }
      ]
    },
    {
      "cell_type": "markdown",
      "metadata": {
        "id": "KfLu-9ymzQy9"
      },
      "source": [
        "En fait la **classe** *vectorizer* garde beaucoup d'autres **informations sur le dictionnaire.**\n",
        " \n",
        "En outre, si nous voulons **encoder de nouvelles phrases** pour utiliser notre **modèle de Machine Learning entraîné** il faudra utiliser la **fonction** *fit()* de la **classe** *vectorizer*.\n",
        " \n",
        "On peut ainsi **adapter ces nouvelles phrases à notre dictionnaire.** Cela implique néanmoins que si ces nouvelles phrases contiennent **un mot qui n'est pas dans le dictionnaire**, il ne sera **pas pris en compte.**\n",
        " \n",
        "On peut voir **les mots composants ce dictionnaire** avec la **fonction**  *get_feature_names()* de *vectorizer*."
      ]
    },
    {
      "cell_type": "code",
      "metadata": {
        "colab": {
          "base_uri": "https://localhost:8080/"
        },
        "id": "hAlU4FCF_cJQ",
        "outputId": "fba9acbd-2fb1-42e5-dd30-e7361a372916"
      },
      "source": [
        "vectorizer.get_feature_names()"
      ],
      "execution_count": null,
      "outputs": [
        {
          "output_type": "execute_result",
          "data": {
            "text/plain": [
              "['aa',\n",
              " 'aal',\n",
              " 'aba',\n",
              " 'abandon',\n",
              " 'abandoned',\n",
              " 'ability',\n",
              " 'abject',\n",
              " 'ablaze',\n",
              " 'able',\n",
              " 'aboard',\n",
              " 'abomination',\n",
              " 'abortion',\n",
              " 'abouts',\n",
              " 'absence',\n",
              " 'absolute',\n",
              " 'absolutely',\n",
              " 'abstract',\n",
              " 'absurd',\n",
              " 'absurdly',\n",
              " 'abuse',\n",
              " 'accept',\n",
              " 'access',\n",
              " 'accident',\n",
              " 'accidentally',\n",
              " 'accidently',\n",
              " 'accidents',\n",
              " 'according',\n",
              " 'accordingly',\n",
              " 'account',\n",
              " 'accountable',\n",
              " 'accuracy',\n",
              " 'accused',\n",
              " 'accustomed',\n",
              " 'ace',\n",
              " 'achieve',\n",
              " 'achievement',\n",
              " 'aching',\n",
              " 'acid',\n",
              " 'acids',\n",
              " 'acne',\n",
              " 'acoustic',\n",
              " 'acquiesce',\n",
              " 'acquire',\n",
              " 'acquired',\n",
              " 'acquisition',\n",
              " 'acre',\n",
              " 'acronym',\n",
              " 'across',\n",
              " 'acrylic',\n",
              " 'act',\n",
              " 'actin',\n",
              " 'acting',\n",
              " 'action',\n",
              " 'activate',\n",
              " 'active',\n",
              " 'actively',\n",
              " 'activist',\n",
              " 'activity',\n",
              " 'actor',\n",
              " 'actress',\n",
              " 'actual',\n",
              " 'actually',\n",
              " 'acute',\n",
              " 'ad',\n",
              " 'adaptation',\n",
              " 'add',\n",
              " 'added',\n",
              " 'addict',\n",
              " 'addiction',\n",
              " 'addition',\n",
              " 'address',\n",
              " 'adjust',\n",
              " 'adjustable',\n",
              " 'adjuster',\n",
              " 'administration',\n",
              " 'administrative',\n",
              " 'admit',\n",
              " 'adopt',\n",
              " 'adoption',\n",
              " 'adoptive',\n",
              " 'adorable',\n",
              " 'adult',\n",
              " 'advance',\n",
              " 'advanced',\n",
              " 'advantage',\n",
              " 'adventure',\n",
              " 'adverse',\n",
              " 'advertise',\n",
              " 'advice',\n",
              " 'advised',\n",
              " 'advisory',\n",
              " 'aeroplane',\n",
              " 'aesthetic',\n",
              " 'affair',\n",
              " 'affect',\n",
              " 'affected',\n",
              " 'affecting',\n",
              " 'affiliate',\n",
              " 'affiliation',\n",
              " 'affliction',\n",
              " 'afloat',\n",
              " 'afraid',\n",
              " 'afterhours',\n",
              " 'afterlife',\n",
              " 'aftermath',\n",
              " 'afternoon',\n",
              " 'aftershock',\n",
              " 'afterwards',\n",
              " 'agalloch',\n",
              " 'age',\n",
              " 'agency',\n",
              " 'agent',\n",
              " 'aggression',\n",
              " 'aggressive',\n",
              " 'aggressively',\n",
              " 'agnus',\n",
              " 'ago',\n",
              " 'agony',\n",
              " 'agree',\n",
              " 'agreed',\n",
              " 'agreement',\n",
              " 'ah',\n",
              " 'ahead',\n",
              " 'ai',\n",
              " 'aid',\n",
              " 'aim',\n",
              " 'aimlessly',\n",
              " 'aint',\n",
              " 'air',\n",
              " 'aircraft',\n",
              " 'airhead',\n",
              " 'airing',\n",
              " 'airlift',\n",
              " 'airplane',\n",
              " 'airport',\n",
              " 'aisle',\n",
              " 'ak',\n",
              " 'aka',\n",
              " 'al',\n",
              " 'ala',\n",
              " 'alameda',\n",
              " 'alarm',\n",
              " 'alarmed',\n",
              " 'alarming',\n",
              " 'alarmingly',\n",
              " 'alaska',\n",
              " 'alba',\n",
              " 'albeit',\n",
              " 'album',\n",
              " 'alchemist',\n",
              " 'alcohol',\n",
              " 'alec',\n",
              " 'alert',\n",
              " 'algae',\n",
              " 'alien',\n",
              " 'align',\n",
              " 'alive',\n",
              " 'allay',\n",
              " 'allegation',\n",
              " 'allegedly',\n",
              " 'allegiance',\n",
              " 'allergic',\n",
              " 'alley',\n",
              " 'alliance',\n",
              " 'allied',\n",
              " 'alloosh',\n",
              " 'allotment',\n",
              " 'allow',\n",
              " 'alloy',\n",
              " 'ally',\n",
              " 'almighty',\n",
              " 'almost',\n",
              " 'alone',\n",
              " 'along',\n",
              " 'alp',\n",
              " 'alpha',\n",
              " 'already',\n",
              " 'alright',\n",
              " 'alrighty',\n",
              " 'also',\n",
              " 'alt',\n",
              " 'alternate',\n",
              " 'alternative',\n",
              " 'although',\n",
              " 'aluminum',\n",
              " 'always',\n",
              " 'ama',\n",
              " 'amateur',\n",
              " 'amazed',\n",
              " 'amazing',\n",
              " 'amazon',\n",
              " 'amber',\n",
              " 'ambition',\n",
              " 'ambulance',\n",
              " 'amen',\n",
              " 'amends',\n",
              " 'america',\n",
              " 'amid',\n",
              " 'amino',\n",
              " 'amman',\n",
              " 'among',\n",
              " 'amongst',\n",
              " 'amplifier',\n",
              " 'an',\n",
              " 'ana',\n",
              " 'analysis',\n",
              " 'anarchy',\n",
              " 'anatomy',\n",
              " 'anchor',\n",
              " 'anchorage',\n",
              " 'ancient',\n",
              " 'and',\n",
              " 'android',\n",
              " 'anew',\n",
              " 'angel',\n",
              " 'angelriveralib',\n",
              " 'anger',\n",
              " 'angioplasty',\n",
              " 'angry',\n",
              " 'ani',\n",
              " 'animal',\n",
              " 'animation',\n",
              " 'anime',\n",
              " 'ankle',\n",
              " 'anna',\n",
              " 'annihilate',\n",
              " 'annihilation',\n",
              " 'anniversary',\n",
              " 'announce',\n",
              " 'announcement',\n",
              " 'annoying',\n",
              " 'annual',\n",
              " 'anonymous',\n",
              " 'another',\n",
              " 'answer',\n",
              " 'ant',\n",
              " 'ante',\n",
              " 'anthelmintic',\n",
              " 'anthology',\n",
              " 'anthrax',\n",
              " 'anti',\n",
              " 'antichrist',\n",
              " 'antifeminist',\n",
              " 'anxiety',\n",
              " 'anxious',\n",
              " 'anybody',\n",
              " 'anyone',\n",
              " 'anything',\n",
              " 'anyway',\n",
              " 'anyways',\n",
              " 'anywhere',\n",
              " 'apart',\n",
              " 'apartment',\n",
              " 'apiece',\n",
              " 'apocalypse',\n",
              " 'apocalyptic',\n",
              " 'apologize',\n",
              " 'apology',\n",
              " 'appalling',\n",
              " 'apparent',\n",
              " 'apparently',\n",
              " 'appeal',\n",
              " 'appease',\n",
              " 'apperception',\n",
              " 'appetite',\n",
              " 'applaud',\n",
              " 'apple',\n",
              " 'application',\n",
              " 'applied',\n",
              " 'apply',\n",
              " 'appointment',\n",
              " 'appraisal',\n",
              " 'appreciate',\n",
              " 'approach',\n",
              " 'approaching',\n",
              " 'appropriate',\n",
              " 'appropriation',\n",
              " 'approval',\n",
              " 'apropos',\n",
              " 'apt',\n",
              " 'aquarium',\n",
              " 'ar',\n",
              " 'ara',\n",
              " 'arcade',\n",
              " 'archetype',\n",
              " 'architect',\n",
              " 'architecture',\n",
              " 'are',\n",
              " 'area',\n",
              " 'areal',\n",
              " 'aren',\n",
              " 'arena',\n",
              " 'arent',\n",
              " 'argue',\n",
              " 'argument',\n",
              " 'ari',\n",
              " 'ariz',\n",
              " 'arm',\n",
              " 'armed',\n",
              " 'armory',\n",
              " 'army',\n",
              " 'around',\n",
              " 'arrest',\n",
              " 'arrival',\n",
              " 'arrive',\n",
              " 'arrogant',\n",
              " 'arse',\n",
              " 'arsenal',\n",
              " 'arson',\n",
              " 'arsonist',\n",
              " 'art',\n",
              " 'article',\n",
              " 'artificial',\n",
              " 'artillery',\n",
              " 'artist',\n",
              " 'ary',\n",
              " 'as',\n",
              " 'ascend',\n",
              " 'ash',\n",
              " 'aside',\n",
              " 'ask',\n",
              " 'asleep',\n",
              " 'aspect',\n",
              " 'asphalt',\n",
              " 'aspiring',\n",
              " 'ass',\n",
              " 'assailant',\n",
              " 'assassins',\n",
              " 'assault',\n",
              " 'assembly',\n",
              " 'assertative',\n",
              " 'assessment',\n",
              " 'asset',\n",
              " 'assistance',\n",
              " 'assistant',\n",
              " 'associated',\n",
              " 'association',\n",
              " 'assume',\n",
              " 'assured',\n",
              " 'astonishing',\n",
              " 'astounding',\n",
              " 'astrakhan',\n",
              " 'astrologian',\n",
              " 'astrology',\n",
              " 'asylum',\n",
              " 'at',\n",
              " 'ate',\n",
              " 'atheistic',\n",
              " 'athlete',\n",
              " 'athletics',\n",
              " 'atlantic',\n",
              " 'atlas',\n",
              " 'atmosphere',\n",
              " 'atmospheric',\n",
              " 'atom',\n",
              " 'atomic',\n",
              " 'attached',\n",
              " 'attack',\n",
              " 'attempt',\n",
              " 'attend',\n",
              " 'attendance',\n",
              " 'attention',\n",
              " 'attic',\n",
              " 'attitude',\n",
              " 'attraction',\n",
              " 'attractive',\n",
              " 'auburn',\n",
              " 'auction',\n",
              " 'audience',\n",
              " 'audio',\n",
              " 'audit',\n",
              " 'august',\n",
              " 'aunt',\n",
              " 'aurora',\n",
              " 'australia',\n",
              " 'authentic',\n",
              " 'author',\n",
              " 'authority',\n",
              " 'autism',\n",
              " 'autistic',\n",
              " 'auto',\n",
              " 'autobiography',\n",
              " 'automatic',\n",
              " 'autumn',\n",
              " 'ava',\n",
              " 'available',\n",
              " 'avalanche',\n",
              " 'ave',\n",
              " 'avenger',\n",
              " 'avenue',\n",
              " 'average',\n",
              " 'avert',\n",
              " 'averted',\n",
              " 'aviation',\n",
              " 'avoid',\n",
              " 'aw',\n",
              " 'await',\n",
              " 'awake',\n",
              " 'awakening',\n",
              " 'award',\n",
              " 'aware',\n",
              " 'awareness',\n",
              " 'awash',\n",
              " 'away',\n",
              " 'awesome',\n",
              " 'awful',\n",
              " 'awkward',\n",
              " 'awn',\n",
              " 'ay',\n",
              " 'ba',\n",
              " 'babe',\n",
              " 'baby',\n",
              " 'back',\n",
              " 'background',\n",
              " 'backing',\n",
              " 'backlash',\n",
              " 'backup',\n",
              " 'bacteria',\n",
              " 'bad',\n",
              " 'badge',\n",
              " 'badges',\n",
              " 'badly',\n",
              " 'badu',\n",
              " 'bae',\n",
              " 'baffle',\n",
              " 'baffling',\n",
              " 'bag',\n",
              " 'baggage',\n",
              " 'bagged',\n",
              " 'bagging',\n",
              " 'bago',\n",
              " 'bags',\n",
              " 'bah',\n",
              " 'bail',\n",
              " 'bait',\n",
              " 'bake',\n",
              " 'baked',\n",
              " 'baking',\n",
              " 'bal',\n",
              " 'balance',\n",
              " 'balcony',\n",
              " 'bali',\n",
              " 'ball',\n",
              " 'ban',\n",
              " 'banana',\n",
              " 'band',\n",
              " 'bang',\n",
              " 'bank',\n",
              " 'banking',\n",
              " 'bannister',\n",
              " 'banquet',\n",
              " 'bar',\n",
              " 'barbaric',\n",
              " 'barber',\n",
              " 'barcelona',\n",
              " 'bard',\n",
              " 'bardo',\n",
              " 'bare',\n",
              " 'barely',\n",
              " 'bargain',\n",
              " 'bark',\n",
              " 'barking',\n",
              " 'barn',\n",
              " 'barra',\n",
              " 'barrack',\n",
              " 'barrier',\n",
              " 'barring',\n",
              " 'barry',\n",
              " 'bartender',\n",
              " 'basalt',\n",
              " 'base',\n",
              " 'baseball',\n",
              " 'based',\n",
              " 'baseman',\n",
              " 'basement',\n",
              " 'bash',\n",
              " 'basic',\n",
              " 'basically',\n",
              " 'basis',\n",
              " 'bask',\n",
              " 'basket',\n",
              " 'bass',\n",
              " 'bastard',\n",
              " 'bat',\n",
              " 'bath',\n",
              " 'bathe',\n",
              " 'bathroom',\n",
              " 'batter',\n",
              " 'battered',\n",
              " 'battery',\n",
              " 'batting',\n",
              " 'battle',\n",
              " 'battlefield',\n",
              " 'battleship',\n",
              " 'bay',\n",
              " 'bayonet',\n",
              " 'be',\n",
              " 'beach',\n",
              " 'beached',\n",
              " 'beacon',\n",
              " 'beam',\n",
              " 'bean',\n",
              " 'bear',\n",
              " 'beard',\n",
              " 'beast',\n",
              " 'beastly',\n",
              " 'beat',\n",
              " 'beaten',\n",
              " 'beating',\n",
              " 'beautiful',\n",
              " 'beautifully',\n",
              " 'beauty',\n",
              " 'beckoning',\n",
              " 'become',\n",
              " 'becomes',\n",
              " 'becoming',\n",
              " 'bed',\n",
              " 'bedding',\n",
              " 'bedroom',\n",
              " 'bee',\n",
              " 'beef',\n",
              " 'beer',\n",
              " 'beet',\n",
              " 'beetroot',\n",
              " 'begging',\n",
              " 'begin',\n",
              " 'beginner',\n",
              " 'beginning',\n",
              " 'begun',\n",
              " 'behalf',\n",
              " 'behavior',\n",
              " 'behaviour',\n",
              " 'behead',\n",
              " 'behind',\n",
              " 'behold',\n",
              " 'beige',\n",
              " 'belie',\n",
              " 'belief',\n",
              " 'believe',\n",
              " 'believing',\n",
              " 'bell',\n",
              " 'belle',\n",
              " 'belligerent',\n",
              " 'belly',\n",
              " 'belt',\n",
              " 'belter',\n",
              " 'beluga',\n",
              " 'ben',\n",
              " 'bend',\n",
              " 'bene',\n",
              " 'beneath',\n",
              " 'benedict',\n",
              " 'benediction',\n",
              " 'benefit',\n",
              " 'benjamin',\n",
              " 'berlin',\n",
              " 'berry',\n",
              " 'beside',\n",
              " 'besides',\n",
              " 'besieged',\n",
              " 'best',\n",
              " 'bet',\n",
              " 'beth',\n",
              " 'better',\n",
              " 'betting',\n",
              " 'beware',\n",
              " 'beyond',\n",
              " 'bias',\n",
              " 'bicentennial',\n",
              " 'bicycle',\n",
              " 'bicyclist',\n",
              " 'bid',\n",
              " 'big',\n",
              " 'bigamist',\n",
              " 'bigger',\n",
              " 'biggest',\n",
              " 'bike',\n",
              " 'bilic',\n",
              " 'bilingual',\n",
              " 'bill',\n",
              " 'billboard',\n",
              " 'billing',\n",
              " 'billion',\n",
              " 'billionaire',\n",
              " 'billy',\n",
              " 'bin',\n",
              " 'bind',\n",
              " 'biological',\n",
              " 'bioter',\n",
              " 'bird',\n",
              " 'birth',\n",
              " 'birthday',\n",
              " 'bistro',\n",
              " 'bit',\n",
              " 'bitch',\n",
              " 'bite',\n",
              " 'biting',\n",
              " 'bitten',\n",
              " 'bitter',\n",
              " 'biz',\n",
              " 'black',\n",
              " 'blackberry',\n",
              " 'blacken',\n",
              " 'blackmail',\n",
              " 'blah',\n",
              " 'blake',\n",
              " 'blame',\n",
              " 'blamed',\n",
              " 'blaming',\n",
              " 'bland',\n",
              " 'blanket',\n",
              " 'blast',\n",
              " 'blasting',\n",
              " 'blaze',\n",
              " 'blazing',\n",
              " 'bleacher',\n",
              " 'bleed',\n",
              " 'bleeding',\n",
              " 'blending',\n",
              " 'bless',\n",
              " 'blessed',\n",
              " 'blessing',\n",
              " 'blight',\n",
              " 'blind',\n",
              " 'blink',\n",
              " 'blinked',\n",
              " 'blinker',\n",
              " 'bliss',\n",
              " 'blitz',\n",
              " 'blizzard',\n",
              " 'block',\n",
              " 'blockage',\n",
              " 'blocked',\n",
              " 'blocking',\n",
              " 'bloke',\n",
              " 'blonde',\n",
              " 'blood',\n",
              " 'bloody',\n",
              " 'bloom',\n",
              " 'blossom',\n",
              " 'blow',\n",
              " 'blower',\n",
              " 'blowing',\n",
              " 'blown',\n",
              " 'blowout',\n",
              " 'blubber',\n",
              " 'blue',\n",
              " 'bluebell',\n",
              " 'blueprint',\n",
              " 'bluff',\n",
              " 'blunt',\n",
              " 'bn',\n",
              " 'bo',\n",
              " 'board',\n",
              " 'boarding',\n",
              " 'boasting',\n",
              " 'boat',\n",
              " 'bob',\n",
              " 'bobble',\n",
              " 'bobcat',\n",
              " 'bod',\n",
              " 'bodied',\n",
              " 'body',\n",
              " 'bolster',\n",
              " 'bolt',\n",
              " 'bomb',\n",
              " 'bombed',\n",
              " 'bomber',\n",
              " 'bon',\n",
              " 'bone',\n",
              " 'bong',\n",
              " 'bonsai',\n",
              " 'bonus',\n",
              " 'boob',\n",
              " 'book',\n",
              " 'bookmobile',\n",
              " 'boom',\n",
              " 'boost',\n",
              " 'boot',\n",
              " 'booth',\n",
              " 'booty',\n",
              " 'booze',\n",
              " 'border',\n",
              " 'borderland',\n",
              " 'bore',\n",
              " 'boring',\n",
              " 'born',\n",
              " 'borrower',\n",
              " 'boston',\n",
              " 'bot',\n",
              " 'bother',\n",
              " 'bottle',\n",
              " 'bottling',\n",
              " 'bottom',\n",
              " 'bought',\n",
              " 'boulder',\n",
              " 'bounce',\n",
              " 'bound',\n",
              " 'boundary',\n",
              " 'bounty',\n",
              " 'bout',\n",
              " 'bovine',\n",
              " 'bow',\n",
              " 'bowe',\n",
              " 'bowery',\n",
              " 'bowknot',\n",
              " 'bowl',\n",
              " 'bowling',\n",
              " 'box',\n",
              " 'boxer',\n",
              " 'boxing',\n",
              " 'boy',\n",
              " 'brace',\n",
              " 'bracelet',\n",
              " 'bracing',\n",
              " 'bracket',\n",
              " 'brain',\n",
              " 'brainless',\n",
              " 'brake',\n",
              " 'branch',\n",
              " 'brand',\n",
              " 'brant',\n",
              " 'brass',\n",
              " 'brasswork',\n",
              " 'brave',\n",
              " 'bravery',\n",
              " 'brazil',\n",
              " 'breach',\n",
              " 'bread',\n",
              " 'break',\n",
              " 'breakdown',\n",
              " 'breakfast',\n",
              " 'breaking',\n",
              " 'breast',\n",
              " 'breath',\n",
              " 'breathe',\n",
              " 'breathing',\n",
              " 'bred',\n",
              " 'breed',\n",
              " 'breeder',\n",
              " 'brewer',\n",
              " 'brewing',\n",
              " 'brick',\n",
              " 'bridal',\n",
              " 'bride',\n",
              " 'bridge',\n",
              " 'bridgework',\n",
              " 'brief',\n",
              " 'briefing',\n",
              " 'brig',\n",
              " 'brigade',\n",
              " 'bright',\n",
              " 'brightening',\n",
              " 'brightly',\n",
              " 'brilliant',\n",
              " 'bring',\n",
              " 'brisk',\n",
              " 'brit',\n",
              " 'british',\n",
              " 'broad',\n",
              " 'broadcast',\n",
              " 'broadly',\n",
              " 'broadway',\n",
              " 'brochure',\n",
              " 'brock',\n",
              " 'broke',\n",
              " 'broken',\n",
              " 'brother',\n",
              " 'brought',\n",
              " 'brown',\n",
              " 'browner',\n",
              " 'brownie',\n",
              " 'browser',\n",
              " 'browsing',\n",
              " 'bruise',\n",
              " 'brunette',\n",
              " 'brunt',\n",
              " 'brush',\n",
              " 'brut',\n",
              " 'brutal',\n",
              " 'brutality',\n",
              " 'brutally',\n",
              " 'bu',\n",
              " 'bubble',\n",
              " 'buck',\n",
              " 'buckle',\n",
              " 'bud',\n",
              " 'buddy',\n",
              " 'budget',\n",
              " 'buff',\n",
              " 'buffalo',\n",
              " 'buffer',\n",
              " 'buffet',\n",
              " 'bug',\n",
              " 'build',\n",
              " 'builder',\n",
              " 'building',\n",
              " 'buildings',\n",
              " 'buildup',\n",
              " 'built',\n",
              " 'bull',\n",
              " 'bullet',\n",
              " 'bulletin',\n",
              " 'bulletproof',\n",
              " 'bullets',\n",
              " 'bully',\n",
              " 'bummer',\n",
              " 'bump',\n",
              " 'bumper',\n",
              " 'bunch',\n",
              " 'bundle',\n",
              " 'bundy',\n",
              " 'bunting',\n",
              " 'burglar',\n",
              " 'burglary',\n",
              " 'buried',\n",
              " 'burn',\n",
              " 'burned',\n",
              " 'burner',\n",
              " 'burning',\n",
              " 'burnt',\n",
              " 'burp',\n",
              " 'burst',\n",
              " 'burton',\n",
              " 'bury',\n",
              " 'bus',\n",
              " 'bush',\n",
              " 'business',\n",
              " 'businessman',\n",
              " 'bust',\n",
              " 'busted',\n",
              " 'busy',\n",
              " 'butch',\n",
              " 'butt',\n",
              " 'butter',\n",
              " 'button',\n",
              " 'buy',\n",
              " 'by',\n",
              " 'bye',\n",
              " 'bypass',\n",
              " 'ca',\n",
              " 'cab',\n",
              " 'cabbage',\n",
              " 'cabin',\n",
              " 'cable',\n",
              " 'cabling',\n",
              " 'cachet',\n",
              " 'cafì',\n",
              " 'cage',\n",
              " 'cain',\n",
              " 'cake',\n",
              " 'cal',\n",
              " 'calais',\n",
              " 'calamity',\n",
              " 'call',\n",
              " 'calling',\n",
              " 'calm',\n",
              " 'calmly',\n",
              " 'calorie',\n",
              " 'calumet',\n",
              " 'cam',\n",
              " 'came',\n",
              " 'cameo',\n",
              " 'camera',\n",
              " 'camilla',\n",
              " 'camp',\n",
              " 'campaign',\n",
              " 'camper',\n",
              " 'campfire',\n",
              " 'campground',\n",
              " 'campus',\n",
              " 'can',\n",
              " 'canada',\n",
              " 'canal',\n",
              " 'cancel',\n",
              " 'cancer',\n",
              " 'candidate',\n",
              " 'candle',\n",
              " 'candy',\n",
              " 'cannibalism',\n",
              " 'cannon',\n",
              " 'canoe',\n",
              " 'cant',\n",
              " 'cantar',\n",
              " 'canvas',\n",
              " 'canyon',\n",
              " 'cap',\n",
              " 'capable',\n",
              " 'capacity',\n",
              " 'cape',\n",
              " 'capital',\n",
              " 'capitalism',\n",
              " 'capitalist',\n",
              " 'capitulation',\n",
              " 'capsize',\n",
              " 'captain',\n",
              " 'caption',\n",
              " 'captive',\n",
              " 'captivity',\n",
              " 'captor',\n",
              " 'capture',\n",
              " 'car',\n",
              " 'caravan',\n",
              " 'carcinoma',\n",
              " 'card',\n",
              " 'cardboard',\n",
              " 'care',\n",
              " 'careen',\n",
              " 'career',\n",
              " 'careful',\n",
              " 'carefully',\n",
              " 'careless',\n",
              " 'carful',\n",
              " 'cargo',\n",
              " 'carl',\n",
              " 'carnage',\n",
              " 'caroline',\n",
              " 'carpet',\n",
              " 'carr',\n",
              " 'carriage',\n",
              " 'carried',\n",
              " 'carry',\n",
              " 'carrying',\n",
              " 'cart',\n",
              " 'cartel',\n",
              " 'cartoon',\n",
              " 'cartridge',\n",
              " 'cascade',\n",
              " 'case',\n",
              " 'cash',\n",
              " 'casing',\n",
              " 'casino',\n",
              " 'cast',\n",
              " 'casting',\n",
              " 'castle',\n",
              " 'casual',\n",
              " 'casually',\n",
              " 'casualties',\n",
              " 'casualty',\n",
              " 'cat',\n",
              " 'cataclysmic',\n",
              " 'catalogue',\n",
              " 'catastrophe',\n",
              " 'catastrophic',\n",
              " 'catch',\n",
              " 'catcher',\n",
              " 'catching',\n",
              " 'catechize',\n",
              " 'catfish',\n",
              " 'caught',\n",
              " 'causation',\n",
              " 'cause',\n",
              " 'causing',\n",
              " 'caution',\n",
              " 'cautious',\n",
              " 'cave',\n",
              " 'ce',\n",
              " 'cee',\n",
              " 'celebration',\n",
              " 'celebrity',\n",
              " 'celestial',\n",
              " 'cell',\n",
              " 'cement',\n",
              " 'censor',\n",
              " 'censorship',\n",
              " 'census',\n",
              " 'center',\n",
              " 'centipede',\n",
              " 'central',\n",
              " 'cereal',\n",
              " 'cern',\n",
              " 'cerography',\n",
              " 'certain',\n",
              " 'certainly',\n",
              " 'certainty',\n",
              " 'certificate',\n",
              " 'certified',\n",
              " 'cervix',\n",
              " 'cest',\n",
              " 'chain',\n",
              " 'chair',\n",
              " 'chairman',\n",
              " 'challenge',\n",
              " 'champ',\n",
              " 'champagne',\n",
              " 'champaign',\n",
              " 'champion',\n",
              " 'championship',\n",
              " 'chance',\n",
              " 'change',\n",
              " 'channel',\n",
              " 'chaos',\n",
              " 'chapter',\n",
              " 'character',\n",
              " 'charcoal',\n",
              " 'charge',\n",
              " 'charger',\n",
              " 'charging',\n",
              " 'charity',\n",
              " 'charming',\n",
              " ...]"
            ]
          },
          "metadata": {
            "tags": []
          },
          "execution_count": 17
        }
      ]
    },
    {
      "cell_type": "markdown",
      "metadata": {
        "id": "Xq_b_u0LxafM"
      },
      "source": [
        "Le seul **inconvénient du One-Hot Encoding** c'est que l'on **perd la hiérarchie**, l'ordre des mots.\n",
        " \n",
        "Cela nous fait donc **perdre** le contexte, **le sens de la phrase** et en théorie cela devrait appauvrir les résultats de notre modèle.\n",
        " \n",
        "En pratique, cela est bien différent, on peut avoir des **résultats avec 80-85% de précision** ce qui est déjà **très intéressant pour du NLP !**"
      ]
    },
    {
      "cell_type": "markdown",
      "metadata": {
        "id": "cSSjaVLrAVUv"
      },
      "source": [
        "## **Word embeddings**"
      ]
    },
    {
      "cell_type": "markdown",
      "metadata": {
        "id": "Np-iNAosEkwy"
      },
      "source": [
        "### **Encodage Hiérarchique**"
      ]
    },
    {
      "cell_type": "markdown",
      "metadata": {
        "id": "mRDKp56x27gZ"
      },
      "source": [
        "Ici on utilise un **autre type** d'encodage: **l'encodage hiérarchique.**\n",
        " \n",
        "Contrairement au One-Hot Encoding, vous vous en doutez, **on garde la hiérarchie**, l'ordre des mots et donc **le sens de la phrase.**\n",
        " \n",
        "On a un **autre type de dictionnaire** ici. En fait, **chaque mot est représenté par un chiffre.**\n",
        " \n",
        "Chaque **phrase** sera donc **une suite de chiffres.**\n",
        " \n",
        "Un **exemple** sera plus parlant :\n",
        "- \"je joue au jeu vidéo\" sera [1, 2, 3, 4, 5]\n",
        "- \"je regarde une vidéo\" sera [1, 6, 7, 5]"
      ]
    },
    {
      "cell_type": "markdown",
      "metadata": {
        "id": "H1UpGjsa54L_"
      },
      "source": [
        "Pour **cet endoge** on importe la **bibliothèque** *zeugma*. Si on est sur **Google Colab** on utilise la **commande suivante** :"
      ]
    },
    {
      "cell_type": "code",
      "metadata": {
        "id": "tle8AG7AAcqr"
      },
      "source": [
        "!pip install zeugma &> /dev/null"
      ],
      "execution_count": null,
      "outputs": []
    },
    {
      "cell_type": "markdown",
      "metadata": {
        "id": "fmx-YxEj6b0H"
      },
      "source": [
        "Sinon on exécute cette **même commande**, sans le \"!\" du début, dans le **terminal**.\n",
        " \n",
        "Ensuite, le fonctionnement est à peu près **le même que pour le one-hot encoding** : on utilise la fonction *TextsToSequences()*  pour **créer notre dictionnaire.**\n",
        " \n",
        "Puis on utilise la **fonction** *fit_transform()* sur **nos phrases preprocessées.**"
      ]
    },
    {
      "cell_type": "code",
      "metadata": {
        "colab": {
          "base_uri": "https://localhost:8080/"
        },
        "id": "9bhKujH4_eYx",
        "outputId": "4ebbb24f-da2c-4cf8-d06e-c1a94126981d"
      },
      "source": [
        "from zeugma import TextsToSequences\n",
        " \n",
        "sequencer = TextsToSequences()\n",
        "embedded_sequ = sequencer.fit_transform(preprocess_list)"
      ],
      "execution_count": null,
      "outputs": [
        {
          "output_type": "stream",
          "text": [
            "/usr/local/lib/python3.7/dist-packages/zeugma/keras_transformers.py:33: VisibleDeprecationWarning: Creating an ndarray from ragged nested sequences (which is a list-or-tuple of lists-or-tuples-or ndarrays with different lengths or shapes) is deprecated. If you meant to do this, you must specify 'dtype=object' when creating the ndarray\n",
            "  return np.array(self.texts_to_sequences(texts))\n"
          ],
          "name": "stderr"
        }
      ]
    },
    {
      "cell_type": "markdown",
      "metadata": {
        "id": "dRImqSHp65aT"
      },
      "source": [
        "Un exemple de phrase avec **l'encodage hiérarchique :**"
      ]
    },
    {
      "cell_type": "code",
      "metadata": {
        "colab": {
          "base_uri": "https://localhost:8080/"
        },
        "id": "ZaMBloUgAbGn",
        "outputId": "881bbfd8-f062-48ed-add3-86c15b057ff9"
      },
      "source": [
        "embedded_sequ[0]"
      ],
      "execution_count": null,
      "outputs": [
        {
          "output_type": "execute_result",
          "data": {
            "text/plain": [
              "[95, 1, 135, 434, 874]"
            ]
          },
          "metadata": {
            "tags": []
          },
          "execution_count": 20
        }
      ]
    },
    {
      "cell_type": "markdown",
      "metadata": {
        "id": "cUt5Guw-6_qi"
      },
      "source": [
        "Une dernière chose à faire : **normaliser nos données.**\n",
        " \n",
        "Ehh oui, pour utiliser du **Machine Learning** il faut que nos données soit en **format tenseur.**\n",
        " \n",
        "Cela implique qu'il faut que **toutes les phrases encodées aient la même taille.**\n",
        " \n",
        "Pour que **nos phrases aient la même taille**, on a ici deux choix:\n",
        "- **ajouter du 'vide'** aux phrases les plus courtes\n",
        "- **tronquer les phrases** les plus longues\n",
        " \n",
        "Pour ces deux choix, **une même fonction existe :** *sequence.pad_sequences()*\n",
        " \n",
        "Elle possède **deux paramètres :**\n",
        "- **sentences** la liste de phrases à remplir/tronquer\n",
        "- **maxlen** la longueur finale que chaque phrase aura\n",
        " \n",
        "En fait cette fonction **tronque les phrases** ayant une **longueur supérieur** à maxlen et **remplit de 0 les phrases** ayant une **longueur inférieur** à maxlen."
      ]
    },
    {
      "cell_type": "code",
      "metadata": {
        "id": "C6ajqJ_SAzVI"
      },
      "source": [
        "from keras.preprocessing import sequence\n",
        "max_len = 40\n",
        " \n",
        "pad_sequ = sequence.pad_sequences(embedded_sequ, maxlen=max_len)"
      ],
      "execution_count": null,
      "outputs": []
    },
    {
      "cell_type": "markdown",
      "metadata": {
        "id": "YALTtmwZZo1l"
      },
      "source": [
        "On peut **afficher** une phrase encodée pour voir le **résultat** :"
      ]
    },
    {
      "cell_type": "code",
      "metadata": {
        "colab": {
          "base_uri": "https://localhost:8080/"
        },
        "id": "4aWCBrAQA4pS",
        "outputId": "3504b657-ca76-4f89-cf90-c0e7b18242ae"
      },
      "source": [
        "print(pad_sequ[0])"
      ],
      "execution_count": null,
      "outputs": [
        {
          "output_type": "stream",
          "text": [
            "[  0   0   0   0   0   0   0   0   0   0   0   0   0   0   0   0   0   0\n",
            "   0   0   0   0   0   0   0   0   0   0   0   0   0   0   0   0   0  95\n",
            "   1 135 434 874]\n"
          ],
          "name": "stdout"
        }
      ]
    },
    {
      "cell_type": "markdown",
      "metadata": {
        "id": "QITOeQGREggD"
      },
      "source": [
        "### **Couche Embedding**"
      ]
    },
    {
      "cell_type": "markdown",
      "metadata": {
        "id": "HB0lNL75ZwP9"
      },
      "source": [
        "En fait, l'**encodage hiérarchique** est un préalable pour utiliser la **couche** *Embedding* de **Keras**.\n",
        " \n",
        "Cette couche permet de **donner des coordonnées** à tous les **mots de notre dictionnaire** tout en réalisant un **apprentissage**.\n",
        " \n",
        "L'idée est que **plus les mots ont un sens proche**, **plus les mots ont des coordonnées proches.**\n",
        " \n",
        "**La couche** va donc **s'améliorer**, comme toutes les autres couches, **au cours de l'apprentissage.** Ainsi à la fin de l'apprentissage, la couche aura donné **des coordonnées précises** pour chacun des mots."
      ]
    },
    {
      "cell_type": "markdown",
      "metadata": {
        "id": "oPhf-1KAbl_C"
      },
      "source": [
        "La couche *Embedding* a **trois paramètres:**\n",
        "- **input_dim**, le nombre de mots dans notre dictionnaire + 1\n",
        "- **output_dim**, la dimension du tenseur de sortie\n",
        "- **input_length**, la longueur des vecteurs (longueur des phrases normalisé)"
      ]
    },
    {
      "cell_type": "code",
      "metadata": {
        "id": "Mwtn5Z8zHKdW"
      },
      "source": [
        "longueur_dict = max(list(map(lambda x: max(x), pad_sequ)))+1"
      ],
      "execution_count": null,
      "outputs": []
    },
    {
      "cell_type": "code",
      "metadata": {
        "colab": {
          "base_uri": "https://localhost:8080/"
        },
        "id": "qPDePo4tA5cp",
        "outputId": "57e03471-5fd5-40aa-97fc-89abe6bdf7fa"
      },
      "source": [
        "from keras.models import Sequential\n",
        "from keras.layers import Embedding, Flatten, Dense\n",
        "\n",
        "model = Sequential()\n",
        "model.add(Embedding(longueur_dict, 8, input_length = max_len))\n",
        "model.add(Flatten())\n",
        "model.add(Dense(1, activation='sigmoid'))\n",
        "\n",
        "model.summary()"
      ],
      "execution_count": null,
      "outputs": [
        {
          "output_type": "stream",
          "text": [
            "Model: \"sequential\"\n",
            "_________________________________________________________________\n",
            "Layer (type)                 Output Shape              Param #   \n",
            "=================================================================\n",
            "embedding (Embedding)        (None, 40, 8)             56520     \n",
            "_________________________________________________________________\n",
            "flatten (Flatten)            (None, 320)               0         \n",
            "_________________________________________________________________\n",
            "dense (Dense)                (None, 1)                 321       \n",
            "=================================================================\n",
            "Total params: 56,841\n",
            "Trainable params: 56,841\n",
            "Non-trainable params: 0\n",
            "_________________________________________________________________\n"
          ],
          "name": "stdout"
        }
      ]
    },
    {
      "cell_type": "markdown",
      "metadata": {
        "id": "4aEL_3V9xgT1"
      },
      "source": [
        "On pourra ensuite **lancer l'entraînement** avec la fonction *fit()* puis **utiliser notre modèle !**"
      ]
    },
    {
      "cell_type": "markdown",
      "metadata": {
        "id": "xelXbIpqAK2r"
      },
      "source": [
        "# **Pour aller plus loin...**"
      ]
    },
    {
      "cell_type": "markdown",
      "metadata": {
        "id": "8eHHiNUxHplL"
      },
      "source": [
        "## **Word2Vec Embedding**"
      ]
    },
    {
      "cell_type": "markdown",
      "metadata": {
        "id": "_TTRbaWpELhk"
      },
      "source": [
        "### **Entraînement**"
      ]
    },
    {
      "cell_type": "markdown",
      "metadata": {
        "id": "xvhZk133uHW_"
      },
      "source": [
        "Il existe **différentes librairies** pour faire de l'**embedding**.\n",
        " \n",
        "**Keras** est particulièrement utile pour cette tâche car elle permet d'**entraîner l'embedding en même temps que le modèle de Deep Learning**.\n",
        " \n",
        "La **librairie Gensim** est au moins aussi intéressante que Keras car elle nous permet de **visualiser cet embedding**.\n",
        " \n",
        "C'est-à-dire qu'on va pouvoir **analyser l'embedding** en regardant **quel mot est similaire à quel autre** par exemple."
      ]
    },
    {
      "cell_type": "markdown",
      "metadata": {
        "id": "LBYbVM4TGHf6"
      },
      "source": [
        "Pour cet **embedding**, il faut que **nos données** soient **sous forme de tokens** (chaque mot séparé) et non sous forme de phrases."
      ]
    },
    {
      "cell_type": "code",
      "metadata": {
        "id": "VpZy9Bq3OSrn"
      },
      "source": [
        "tokenize_sentences = []\n",
        "\n",
        "for i in range(len(preprocess_list)):\n",
        "  tokenize_sentences.append(nltk.tokenize.word_tokenize(preprocess_list[i]))"
      ],
      "execution_count": null,
      "outputs": []
    },
    {
      "cell_type": "markdown",
      "metadata": {
        "id": "otLyXqmiNZ1a"
      },
      "source": [
        "Ensuite, on utilise **la fonction** *Word2Vec* de la **librairie** *Gensim*.\n",
        " \n",
        "Cette fonction possède **cinq paramètres principaux** :\n",
        "- **size :** La dimension du vecteur créé, idéalement inférieur au nombre de mots du vocabulaire\n",
        " \n",
        "- **fenêtre :** La distance maximale entre un mot cible et les mots autour du mot cible. La fenêtre par défaut est de 5.\n",
        " \n",
        "- **min_count :** Le nombre minimum de mots à prendre en compte lors de l'apprentissage du modèle ; les mots dont l'occurrence est inférieure à ce nombre seront ignorés. La valeur par défaut de min_count est 5.\n",
        " \n",
        "- **worker :** Le nombre de lots créés pour l'entraînement, par défaut il y en a 3.\n",
        " \n",
        "Premièrement on **initialise le Word2Vec**, puis on l'**entraîne sur nos données** !"
      ]
    },
    {
      "cell_type": "code",
      "metadata": {
        "colab": {
          "base_uri": "https://localhost:8080/"
        },
        "id": "Qiajm5jE8NTk",
        "outputId": "4b8b069f-90c8-4848-8634-07e3693e0d88"
      },
      "source": [
        "from gensim.test.utils import common_texts\n",
        "from gensim.models import Word2Vec\n",
        "\n",
        "model_W2V = Word2Vec(sentences=tokenize_sentences, size=100, window=5, min_count=1, workers=4)\n",
        "model_W2V.train(tokenize_sentences, total_examples=len(tokenize_sentences), epochs=50)"
      ],
      "execution_count": null,
      "outputs": [
        {
          "output_type": "execute_result",
          "data": {
            "text/plain": [
              "(2479234, 2527700)"
            ]
          },
          "metadata": {
            "tags": []
          },
          "execution_count": 27
        }
      ]
    },
    {
      "cell_type": "markdown",
      "metadata": {
        "id": "iIRE47TgEERQ"
      },
      "source": [
        "### **Visualisation**"
      ]
    },
    {
      "cell_type": "markdown",
      "metadata": {
        "id": "gBl8Vh-4YPyy"
      },
      "source": [
        "Le **modèle a appris** la similarité des mots **en fonction du contexte de nos phrases**.\n",
        "\n",
        "Le **titre de notre jeu de données** est *'Disaster Tweet'* - *'Les tweets parlant de catastrophes(naturelles ou non)'*\n",
        " \n",
        " On peut par exemple **regarder quel mot se rapproche de 'fire'** grâce à la fonction *similar_by_word()*."
      ]
    },
    {
      "cell_type": "code",
      "metadata": {
        "colab": {
          "base_uri": "https://localhost:8080/",
          "height": 37
        },
        "id": "vrvibRntYYX9",
        "outputId": "bd4bf7a3-1199-4c3c-a319-c209d65954ea"
      },
      "source": [
        "tokenize_sentences[0][1]"
      ],
      "execution_count": null,
      "outputs": [
        {
          "output_type": "execute_result",
          "data": {
            "application/vnd.google.colaboratory.intrinsic+json": {
              "type": "string"
            },
            "text/plain": [
              "'fire'"
            ]
          },
          "metadata": {
            "tags": []
          },
          "execution_count": 28
        }
      ]
    },
    {
      "cell_type": "code",
      "metadata": {
        "colab": {
          "base_uri": "https://localhost:8080/"
        },
        "id": "O5R0_PaZ9J3H",
        "outputId": "2b820995-22b7-4dc5-9b24-f22e32ae0a39"
      },
      "source": [
        "model_W2V.similar_by_word(tokenize_sentences[0][1])[:5]"
      ],
      "execution_count": null,
      "outputs": [
        {
          "output_type": "stream",
          "text": [
            "/usr/local/lib/python3.7/dist-packages/ipykernel_launcher.py:1: DeprecationWarning: Call to deprecated `similar_by_word` (Method will be removed in 4.0.0, use self.wv.similar_by_word() instead).\n",
            "  \"\"\"Entry point for launching an IPython kernel.\n"
          ],
          "name": "stderr"
        },
        {
          "output_type": "execute_result",
          "data": {
            "text/plain": [
              "[('township', 0.7251554727554321),\n",
              " ('spreading', 0.7012003660202026),\n",
              " ('alarm', 0.6951850652694702),\n",
              " ('warden', 0.6813154220581055),\n",
              " ('acre', 0.6741729974746704)]"
            ]
          },
          "metadata": {
            "tags": []
          },
          "execution_count": 29
        }
      ]
    },
    {
      "cell_type": "markdown",
      "metadata": {
        "id": "qAjRvw8iZNX6"
      },
      "source": [
        "Les **cinq premiers** sont *'decomposition'*, *'township'*, *'racer'*, *'beast'* et *'apartment'*.\n",
        " \n",
        "Cela veut dire que **la plupart du temps**, *'fire'* à été **utilisé au côté de ces mots**."
      ]
    },
    {
      "cell_type": "markdown",
      "metadata": {
        "id": "Pif17_KUZ3me"
      },
      "source": [
        "Pour mieux **visualiser cette similarité** on peut utiliser **la fonction suivante** :"
      ]
    },
    {
      "cell_type": "code",
      "metadata": {
        "id": "4Agg7pGfbeZv"
      },
      "source": [
        "from sklearn.manifold import TSNE\n",
        "from matplotlib import pyplot as plt\n",
        "\n",
        "def display_closestwords_tsnescatterplot_perso(model, word):\n",
        "    \n",
        "    arr = np.empty((0,100), dtype='f')\n",
        "    word_labels = [word]\n",
        "\n",
        "    numb_sim_words = 5\n",
        "\n",
        "    # get close words\n",
        "    close_words = model.similar_by_word(word)[:numb_sim_words]\n",
        "    \n",
        "    # add the vector for each of the closest words to the array\n",
        "    arr = np.append(arr, np.array([model[word]]), axis=0)\n",
        "    for wrd_score in close_words:\n",
        "        wrd_vector = model[wrd_score[0]]\n",
        "        word_labels.append(wrd_score[0])\n",
        "        arr = np.append(arr, np.array([wrd_vector]), axis=0)\n",
        "        \n",
        "    # find tsne coords for 2 dimensions\n",
        "    tsne = TSNE(n_components=2, random_state=0)\n",
        "    np.set_printoptions(suppress=True)\n",
        "    Y = tsne.fit_transform(arr)\n",
        "\n",
        "    x_coords = Y[:, 0]\n",
        "    y_coords = Y[:, 1]\n",
        "\n",
        "    # color for words\n",
        "    color = ['red']\n",
        "    for i in range(numb_sim_words):\n",
        "      color.append('blue')\n",
        "     \n",
        "    # display scatter plot\n",
        "    plt.scatter(x_coords, y_coords, c = color)\n",
        "\n",
        "    for label, x, y in zip(word_labels, x_coords, y_coords):\n",
        "        plt.annotate(label, xy=(x, y), xytext=(1, 5), textcoords='offset points')\n",
        "    plt.xlim(min(x_coords)-100, max(x_coords)+100)\n",
        "    plt.ylim(min(y_coords)-100, max(y_coords)+100)\n",
        "    plt.show()\n",
        "    print(\"Word most similar to : \"+word)\n",
        "    print([sim_word[0] for sim_word in close_words])"
      ],
      "execution_count": null,
      "outputs": []
    },
    {
      "cell_type": "markdown",
      "metadata": {
        "id": "MNLbvGguZ_zb"
      },
      "source": [
        "Et ensuite l'utiliser **en précisant le modèle d'Embedding** et **le mot à analyser** :"
      ]
    },
    {
      "cell_type": "code",
      "metadata": {
        "colab": {
          "base_uri": "https://localhost:8080/",
          "height": 472
        },
        "id": "zv9oBC5j-WSA",
        "outputId": "c5af0408-250f-47e9-9490-8baf54c6b17d"
      },
      "source": [
        "display_closestwords_tsnescatterplot_perso(model_W2V, tokenize_sentences[0][0])"
      ],
      "execution_count": null,
      "outputs": [
        {
          "output_type": "stream",
          "text": [
            "/usr/local/lib/python3.7/dist-packages/ipykernel_launcher.py:12: DeprecationWarning: Call to deprecated `similar_by_word` (Method will be removed in 4.0.0, use self.wv.similar_by_word() instead).\n",
            "  if sys.path[0] == '':\n",
            "/usr/local/lib/python3.7/dist-packages/ipykernel_launcher.py:15: DeprecationWarning: Call to deprecated `__getitem__` (Method will be removed in 4.0.0, use self.wv.__getitem__() instead).\n",
            "  from ipykernel import kernelapp as app\n",
            "/usr/local/lib/python3.7/dist-packages/ipykernel_launcher.py:17: DeprecationWarning: Call to deprecated `__getitem__` (Method will be removed in 4.0.0, use self.wv.__getitem__() instead).\n",
            "/usr/local/lib/python3.7/dist-packages/matplotlib/backends/backend_agg.py:214: RuntimeWarning: Glyph 137 missing from current font.\n",
            "  font.set_text(s, 0.0, flags=flags)\n",
            "/usr/local/lib/python3.7/dist-packages/matplotlib/backends/backend_agg.py:183: RuntimeWarning: Glyph 137 missing from current font.\n",
            "  font.set_text(s, 0, flags=flags)\n"
          ],
          "name": "stderr"
        },
        {
          "output_type": "display_data",
          "data": {
            "image/png": "[encoded data removed]",
            "text/plain": [
              "<Figure size 432x288 with 1 Axes>"
            ]
          },
          "metadata": {
            "tags": [],
            "needs_background": "light"
          }
        },
        {
          "output_type": "stream",
          "text": [
            "Word most similar to : forest\n",
            "['decomposition', 'bacteria', 'warden', 'preventative', 'simpson\\x89û']\n"
          ],
          "name": "stdout"
        }
      ]
    },
    {
      "cell_type": "markdown",
      "metadata": {
        "id": "KH7SbIAdFbdg"
      },
      "source": [
        "**L'inconvénient de Word2vec** c'est qu'il apprend le sens d'un mot **uniquement en fonction des mots qui l'entourent**, là où **Keras**  apprend **le sens des mots en fonction de l'objectif** (y_train) fixé lors de l'apprentissage.\n",
        " \n",
        "En fait, *Word2Vec* a une **approche non-supervisée** et *Keras* une **approche supervisée**."
      ]
    },
    {
      "cell_type": "markdown",
      "metadata": {
        "id": "B2wxDaC_-LWH"
      },
      "source": [
        "## **Word2Vec Pré-entraîné par Google**"
      ]
    },
    {
      "cell_type": "markdown",
      "metadata": {
        "id": "cvcAVT_TaoHj"
      },
      "source": [
        "**Une autre approche** consiste à prendre un **Word2Vec déjà entraîné**.\n",
        "\n",
        "**Google** et **Facebook** propose le leur qui, vous l'imaginait bien, a été **entraîné sur des millions (milliards ?) de données !**\n",
        "\n",
        "Idéal pour avoir une **représentation générale du vocabulaire d'une langue.**\n",
        "\n",
        "**À savoir cependant**, les Word2Vec entraînés par Facebook, Google, ou autre **ne peuvent pas être adaptés**, **entraînés sur nos phrases**. On peut seulement **les utiliser en gardant le contexte général** sur lequel ils ont été entraîné."
      ]
    },
    {
      "cell_type": "markdown",
      "metadata": {
        "id": "TPtu27Wt-GcF"
      },
      "source": [
        "On télécharge ici le **Word2Vec entraîné par Google** (1.5GB) (disponible sur [ce lien](https://drive.google.com/file/d/0B7XkCwpI5KDYNlNUTTlSS21pQmM/edit) si vous voulez le télécharger en local) :"
      ]
    },
    {
      "cell_type": "code",
      "metadata": {
        "colab": {
          "base_uri": "https://localhost:8080/"
        },
        "id": "NBaOPjTFwDYv",
        "outputId": "04d1ffc9-b6c5-42ed-8a52-0192954d02c2"
      },
      "source": [
        "!wget -q --show-progress --load-cookies /tmp/cookies.txt \"https://docs.google.com/uc?export=download&confirm=$(wget --quiet --save-cookies /tmp/cookies.txt --keep-session-cookies --no-check-certificate 'https://docs.google.com/uc?export=download&id=0B7XkCwpI5KDYNlNUTTlSS21pQmM' -O- | sed -rn 's/.*confirm=([0-9A-Za-z_]+).*/\\1\\n/p')&id=0B7XkCwpI5KDYNlNUTTlSS21pQmM\" -O word2vec_pretrained.bin.gz && rm -rf /tmp/cookies.txt\n"
      ],
      "execution_count": null,
      "outputs": [
        {
          "output_type": "stream",
          "text": [
            "word2vec_pretrained     [               <=>  ]   1.53G   112MB/s    in 13s     \n"
          ],
          "name": "stdout"
        }
      ]
    },
    {
      "cell_type": "markdown",
      "metadata": {
        "id": "g3LAYCSPcCjH"
      },
      "source": [
        "Ensuite on utilise la **bibliothèque** *sh* pour le **dézipper**."
      ]
    },
    {
      "cell_type": "code",
      "metadata": {
        "id": "Ptm-yEec2daT"
      },
      "source": [
        "!pip install sh &> /dev/null"
      ],
      "execution_count": null,
      "outputs": []
    },
    {
      "cell_type": "markdown",
      "metadata": {
        "id": "o2IyTJ0Jct7A"
      },
      "source": [
        "On le **dézip :**"
      ]
    },
    {
      "cell_type": "code",
      "metadata": {
        "colab": {
          "base_uri": "https://localhost:8080/"
        },
        "id": "Y2_e1xru2ZRF",
        "outputId": "45822042-d0c8-4a0c-89d2-5ce2c77b7652"
      },
      "source": [
        "from sh import gunzip\n",
        "\n",
        "gunzip('/content/word2vec_pretrained.bin.gz')"
      ],
      "execution_count": null,
      "outputs": [
        {
          "output_type": "execute_result",
          "data": {
            "text/plain": [
              ""
            ]
          },
          "metadata": {
            "tags": []
          },
          "execution_count": 34
        }
      ]
    },
    {
      "cell_type": "markdown",
      "metadata": {
        "id": "erVNHKMsc1Ez"
      },
      "source": [
        "Puis on utilise la **fonction** *load_word2vec_format()* de la class *KeyedVectors* pour **charger le Word2vec de Google.**"
      ]
    },
    {
      "cell_type": "code",
      "metadata": {
        "id": "6_sIv9XnxIc_"
      },
      "source": [
        "from gensim.models import KeyedVectors\n",
        "\n",
        "model = KeyedVectors.load_word2vec_format('/content/word2vec_pretrained.bin', binary=True)  "
      ],
      "execution_count": null,
      "outputs": []
    },
    {
      "cell_type": "markdown",
      "metadata": {
        "id": "PnVFSjYndPMY"
      },
      "source": [
        "On peut ensuite **l'utiliser** avec un **modèle de Deep Learning**..\n",
        " \n",
        "Je vous propose ici d'**explorer la représentation du modèle**, les liens qu'il fait entre les mots ...\n",
        " \n",
        "On peut par exemple **regarder les mots similaires** à *'koala'* on obtient *'koalas'*, *'wombat'*, *'quoll'*, *'orang_utan'*, *'Koala'*."
      ]
    },
    {
      "cell_type": "code",
      "metadata": {
        "id": "7kK6X8oxdHpW",
        "colab": {
          "base_uri": "https://localhost:8080/"
        },
        "outputId": "83c1b4ff-f64b-45e6-be23-db09e0ff1787"
      },
      "source": [
        "model.similar_by_word('koala')[:5]"
      ],
      "execution_count": null,
      "outputs": [
        {
          "output_type": "execute_result",
          "data": {
            "text/plain": [
              "[('koalas', 0.7420616745948792),\n",
              " ('wombat', 0.6323026418685913),\n",
              " ('quoll', 0.6266179084777832),\n",
              " ('orang_utan', 0.6036992073059082),\n",
              " ('Koala', 0.5906292200088501)]"
            ]
          },
          "metadata": {
            "tags": []
          },
          "execution_count": 2
        }
      ]
    },
    {
      "cell_type": "markdown",
      "metadata": {
        "id": "RJvi43bidpmH"
      },
      "source": [
        "Ou **comparer la similarité** entre **deux mots** :"
      ]
    },
    {
      "cell_type": "code",
      "metadata": {
        "id": "poXQ1IdJeTco",
        "colab": {
          "base_uri": "https://localhost:8080/"
        },
        "outputId": "74d3f5e5-7b06-4be2-b3c9-c0aa26b6f9de"
      },
      "source": [
        "model.similarity('hotdog', 'hamburger')"
      ],
      "execution_count": null,
      "outputs": [
        {
          "output_type": "execute_result",
          "data": {
            "text/plain": [
              "0.65520716"
            ]
          },
          "metadata": {
            "tags": []
          },
          "execution_count": 3
        }
      ]
    },
    {
      "cell_type": "markdown",
      "metadata": {
        "id": "CS7n5bUDefiQ"
      },
      "source": [
        "Ou encore utiliser **notre fonction** de tout à l'heure pour une **visualisation plus concrète**."
      ]
    },
    {
      "cell_type": "code",
      "metadata": {
        "id": "-QRzgmSr-nML"
      },
      "source": [
        "from sklearn.manifold import TSNE\n",
        "from matplotlib import pyplot as plt\n",
        "import numpy as np\n",
        "\n",
        "def display_closestwords_tsnescatterplot(model, word):\n",
        "    \n",
        "    arr = np.empty((0,300), dtype='f')\n",
        "    word_labels = [word]\n",
        "\n",
        "    numb_sim_words = 5\n",
        "\n",
        "    # get close words\n",
        "    close_words = model.similar_by_word(word)[:numb_sim_words]\n",
        "    \n",
        "    # add the vector for each of the closest words to the array\n",
        "    arr = np.append(arr, np.array([model[word]]), axis=0)\n",
        "    for wrd_score in close_words:\n",
        "        wrd_vector = model[wrd_score[0]]\n",
        "        word_labels.append(wrd_score[0])\n",
        "        arr = np.append(arr, np.array([wrd_vector]), axis=0)\n",
        "        \n",
        "    # find tsne coords for 2 dimensions\n",
        "    tsne = TSNE(n_components=2, random_state=0)\n",
        "    np.set_printoptions(suppress=True)\n",
        "    Y = tsne.fit_transform(arr)\n",
        "\n",
        "    x_coords = Y[:, 0]\n",
        "    y_coords = Y[:, 1]\n",
        "\n",
        "    # color for words\n",
        "    color = ['red']\n",
        "    for i in range(numb_sim_words):\n",
        "      color.append('blue')\n",
        "     \n",
        "    # display scatter plot\n",
        "    plt.scatter(x_coords, y_coords, c = color)\n",
        "\n",
        "    for label, x, y in zip(word_labels, x_coords, y_coords):\n",
        "        plt.annotate(label, xy=(x, y), xytext=(1, 5), textcoords='offset points')\n",
        "    plt.xlim(min(x_coords)-100, max(x_coords)+100)\n",
        "    plt.ylim(min(y_coords)-100, max(y_coords)+100)\n",
        "    plt.show()"
      ],
      "execution_count": null,
      "outputs": []
    },
    {
      "cell_type": "code",
      "metadata": {
        "id": "Dlonk415b1Z3",
        "colab": {
          "base_uri": "https://localhost:8080/",
          "height": 265
        },
        "outputId": "c8004519-9d5d-40df-96be-01d0531143de"
      },
      "source": [
        "display_closestwords_tsnescatterplot(model, 'challenge')"
      ],
      "execution_count": null,
      "outputs": [
        {
          "output_type": "display_data",
          "data": {
            "image/png": "[encoded data removed]",
            "text/plain": [
              "<Figure size 432x288 with 1 Axes>"
            ]
          },
          "metadata": {
            "tags": [],
            "needs_background": "light"
          }
        }
      ]
    },
    {
      "cell_type": "markdown",
      "metadata": {
        "id": "RCqkZa7Revfi"
      },
      "source": [
        "Avec ces **connaissances**, vous devriez **avoir les outils en main** pour **entraîner vos propres modèles** de NLP ou **améliorer vos modèles** déjà entraînés.\n",
        " \n",
        "Si vous voulez en savoir plus sur **les modèles NLP de Machine Learning** n'hésitez pas à voir [nos autres articles sur le sujet !](https://inside-machinelearning.com/un-modele-classification-binaire-en-nlp/)"
      ]
    }
  ]
}
